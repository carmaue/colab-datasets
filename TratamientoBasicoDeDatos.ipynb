{
 "cells": [
  {
   "cell_type": "markdown",
   "metadata": {},
   "source": [
    "# Tratamiento de datos básico con R\n",
    "\n",
    "## Introducción\n",
    "\n",
    "### El tratamiento de los datos en el contexto del proceso de data science\n",
    "![El tratammiento de los datos es un suproceso del proceso general de la ciencia de los datos](https://www.dropbox.com/s/b3hwv654uiqr209/Obtenci%C3%B3n%20y%20Tratamiento%20de%20Datos.png?dl=1)\n",
    "\n",
    "El tratamiento de los datos es un suproceso dentro del proceso de data science que se compone a su ves de otras actividades. En este notebook nos centramos en: \n",
    " * La **transformación de los datos** al formato y estructura más apropiada para los algoritmos o análisis que deseamos aplicar.\n",
    "\n",
    "### Carga de librerías\n",
    "\n",
    "Primero cargaremos las librerías necesarias para trabajar:\n"
   ]
  },
  {
   "cell_type": "code",
   "execution_count": null,
   "metadata": {},
   "outputs": [],
   "source": [
    "if (!require(pacman)){\n",
    "  install.packages(\"pacman\")\n",
    "}\n",
    "library(pacman)\n",
    "p_load(gapminder,tidyr,dplyr,ggpubr,ggplot2)"
   ]
  },
  {
   "cell_type": "markdown",
   "metadata": {},
   "source": [
    "también podrían haberse instalado cargado todas las librerías del tidyverse directamente con: \n",
    "```\n",
    "install.packages(\"tidyverse\")\n",
    "library(tidyverse)\n",
    "```\n",
    "\n",
    "\n",
    "Seguidamente visualizamos el contenido del dataset de gapminder:\n"
   ]
  },
  {
   "cell_type": "code",
   "execution_count": null,
   "metadata": {
    "scrolled": true
   },
   "outputs": [],
   "source": [
    "gapminder"
   ]
  },
  {
   "cell_type": "markdown",
   "metadata": {},
   "source": [
    "La variable gapminder es un **dataframe**: una estructura de datos rectangular  con filas y columnas similar a una tabla en una base de datos relacional, donde cada columna tiene asociado un tipo de datos concreto (entero, número en coma flotante, un factor, etc...).\n",
    "\n",
    "La mayoría de los análisis de datos complejos en R se basan en data frames.\n",
    "\n",
    "Más específicamente, gapminder es una variable de un subtipo concreto de dataframe usado en tidyverse, llamado **tibble** que funciona de manera más eficiente y coherente que los dataframes tradicionales de R y que es usado de manera general en todas las librerías del tidyverse. Además podemos ver el tamaño completo del tibble y el conjunto concreto de filas que se están visualizando en este momento.\n",
    "\n",
    "En general llamaremos **observación** a cada una de las filas de un dataframe, y **variable** a cada una de las columnas.\n",
    "\n",
    "Siempre que trabajemos con dataframes es importante tener en mente una definición clara de lo que representa una observación de ese dataframe, en este caso, dada observación representa los datos de un país para un año concreto. Así tenemos el continente al que pertenece (que se mantiene constante para cada país con los años), la esperanza de vida (columna lifeExp), y el producto interior bruto per capita (gdpPercap) que es una medida bastante común de la reiqueza del país, etc.\n",
    "\n",
    "# Tratamiento básico de datos\n",
    "\n",
    "## Transformando datsets salvajes en tidy data con tidyr\n",
    "\n",
    "Aunque los principios de Tidy Data nos resulten obvios, en realidad es muy común encontrar conjuntos de datos que nos los cumples, para solucionar esto, el paquete tidyr nos porporciona 2 funciones muy importantes:\n",
    "\n",
    "### gather\n",
    "\n",
    "  La función  **gather()** se usa cuando los nombres de las variables codifican en realidad valores asociados a las observaciones.\n",
    "  \n",
    "  Un ejemplo de esto es la siguiente tabla :\n",
    "  \n",
    "  "
   ]
  },
  {
   "cell_type": "code",
   "execution_count": null,
   "metadata": {},
   "outputs": [],
   "source": [
    "table4a"
   ]
  },
  {
   "cell_type": "markdown",
   "metadata": {},
   "source": [
    "¿Cual es el problema de esta tabla?"
   ]
  },
  {
   "cell_type": "code",
   "execution_count": null,
   "metadata": {},
   "outputs": [],
   "source": []
  },
  {
   "cell_type": "code",
   "execution_count": null,
   "metadata": {},
   "outputs": [],
   "source": []
  },
  {
   "cell_type": "code",
   "execution_count": null,
   "metadata": {},
   "outputs": [],
   "source": []
  },
  {
   "cell_type": "code",
   "execution_count": null,
   "metadata": {},
   "outputs": [],
   "source": []
  },
  {
   "cell_type": "code",
   "execution_count": null,
   "metadata": {},
   "outputs": [],
   "source": []
  },
  {
   "cell_type": "code",
   "execution_count": null,
   "metadata": {},
   "outputs": [],
   "source": []
  },
  {
   "cell_type": "code",
   "execution_count": null,
   "metadata": {},
   "outputs": [],
   "source": []
  },
  {
   "cell_type": "markdown",
   "metadata": {},
   "source": [
    "Vamos a recodificar los datos de esta tabla para hacer que siga los principios de Tidy Data.\n",
    "\n",
    "Necesitaremos transformar las variable 1999 y 2000 en otras dos variables, que llamaremos year y cases.\n",
    "\n",
    "![resultado](https://d33wubrfki0l68.cloudfront.net/3aea19108d39606bbe49981acda07696c0c7fcd8/2de65/images/tidy-9.png)\n",
    "\n",
    "Concretamente gather toma tres conjuntos de parámetros:\n",
    "\n",
    " * Las columnas originales que conforman los valores de las columnas nuevas.\n",
    " * El nombre que vamos a dar a la columna que representará el valor asociado a cada columna a transformar en sí (en nuestro caso 'year'). A este parámetro se le llama la clave, y su nombre es \"key\".\n",
    " * El nombre que vamos a dar a la columna que contendra los valores de las columnas a transformar (en nuestro caso 'cases'). A este parámetro se le llama el valor, y su nombre es \"value\".\n",
    " \n",
    " \n",
    " Los  paquete dplyr y tidyr proporciona un conjunto de pasos atómicos, que llamaremos verbos, para transformar los datos.\n",
    "Cada vez que encadenemos el uso de un verbo, usaremos un pipe, que en R se escribe como **%>%**, su significado es: **toma todo lo que venga antes y aplícale la acción que viene después**, así los verbos se especifican siempre depués de un pipe.\n",
    "\n",
    "Así nuestra operación de transformación de datos quedaría como:"
   ]
  },
  {
   "cell_type": "code",
   "execution_count": null,
   "metadata": {},
   "outputs": [],
   "source": [
    "table4a %>% \n",
    "  gather(`1999`, `2000`, key = \"year\", value = \"cases\")"
   ]
  },
  {
   "cell_type": "markdown",
   "metadata": {},
   "source": [
    "  Como se puede observar, en el resultado anterior las columnas originales han sido eliminadas.\n",
    "  \n",
    "  *Ejercicio*: Transforme la tabla 'table4b' de manera similar estableciendo como nombre de la columna clave 'year' y de la columna de valor 'population'. A continuación, haga un left join entre los dos resultados para obtener una tabla que combina los datos de ambas tablas con una población general y un número de casos (de una enfermedad) por país y año.\n",
    "  "
   ]
  },
  {
   "cell_type": "code",
   "execution_count": null,
   "metadata": {},
   "outputs": [],
   "source": []
  },
  {
   "cell_type": "markdown",
   "metadata": {},
   "source": [
    "  \n",
    "  \n",
    "  ### spread\n",
    "  \n",
    " La función **spread()**  es opuesta a la anterior, y se usa cuando en una columna se están representando en realidad varias variables. Por ejemplo, analicemos el contenido del dataset 'table2'."
   ]
  },
  {
   "cell_type": "code",
   "execution_count": null,
   "metadata": {},
   "outputs": [],
   "source": [
    "table2"
   ]
  },
  {
   "cell_type": "markdown",
   "metadata": {},
   "source": [
    "Si nos fijamos detenidamente, veremos que existe más de una observación por año y país, y que en realidad es la columna 'type' la que determina el significado real de la columna count (que representa tanto el conteo de casos de la enfermedad como la población general del país).\n",
    "\n",
    "Para que el conjunto de datos cumpla con los principios de tidy data, debemos realizar la siguiente transformación:\n",
    "\n",
    "![Transformación a relizar](https://d33wubrfki0l68.cloudfront.net/8350f0dda414629b9d6c354f87acf5c5f722be43/bcb84/images/tidy-8.png)\n",
    "\n",
    "Para ello usaremos la función **spread()** que toma dos parámetros:\n",
    " * La columna que contiene los nombres de las variables a crear, cuyo parámetro se llama \"key\", y que en nuestro caso será la columna type.\n",
    " * La columna que contiene os valores de las distintas variables, cuyo parámetro se llama \"value\", y que en nuestro caso dera la columna count.\n",
    " \n",
    " Por tanto, el resultado de aplicar spread a la tabla 2 sería:\n"
   ]
  },
  {
   "cell_type": "code",
   "execution_count": null,
   "metadata": {},
   "outputs": [],
   "source": [
    "table2 %>%\n",
    "    spread(key = type, value = count)"
   ]
  },
  {
   "cell_type": "markdown",
   "metadata": {},
   "source": [
    "### Separando y juntando valores de columnas con tidyr\n",
    "\n",
    "Otro caso muy común en conjuntos de datos que no siguen los principios de tidy data es tener columnas que contienen más de un valor. Por ejemplo observe el contenido de la tabla 3:"
   ]
  },
  {
   "cell_type": "code",
   "execution_count": null,
   "metadata": {},
   "outputs": [],
   "source": [
    "table3"
   ]
  },
  {
   "cell_type": "markdown",
   "metadata": {},
   "source": [
    "La columna rate contiene en realidad dos variables, el número de casos de la enfermedad y el número de habitantes total (del páis para ese año). \n",
    "\n",
    "En esto casos podemos hacer uso de la función **separate()** que toma hasta 4 parámetros:\n",
    "\n",
    "* El nombre de la columna a separar, en nuestro caso _rate_.\n",
    "* Un vector de cadenas (cuyo parámetro se llama **into**), que especifica los nombres de las nuevas columnas a crear, en nuestro caso serán _cases_ y _population_.\n",
    "* (Opcionalmente) El separador a usar para delimitar los distintos valores (cuyo parámetro se llama **sep**), y que en nuestro caso será _\"/\"_. Formalmente, **sep** admite expresiones regulares para expresar el separador, por lo que podemos tener varios tipos de separadores distintos. Además, podemos especificar un vector de enteros y se usaran para separar el valor de la columna en base al número de caracteres que indiquemos.\n",
    "* (Opcionalmente) Si queremos que se intente inferir el tipo de datos de las nuevas columnas y que se realice la converisón al generarlas podemos especificarlo mediante el parámetro **convert**, que es booleano.\n",
    "\n",
    "Así, al aplicar la función **separate()** a la tabla 3 obendríamos:"
   ]
  },
  {
   "cell_type": "code",
   "execution_count": null,
   "metadata": {},
   "outputs": [],
   "source": [
    "table3transformada<- table3 %>% \n",
    "  separate(rate, into = c(\"cases\", \"population\"), sep = \"/\")\n",
    "table3transformada\n",
    "str(table3transformada)"
   ]
  },
  {
   "cell_type": "markdown",
   "metadata": {},
   "source": [
    "**Ejercicio**: Modificar la tabla3 de manera que el resultado contenga dos columnas, cases y population de tipo numérico."
   ]
  },
  {
   "cell_type": "code",
   "execution_count": null,
   "metadata": {},
   "outputs": [],
   "source": []
  },
  {
   "cell_type": "markdown",
   "metadata": {},
   "source": [
    "**Ejercicio**: Separar la columna year en siglo y año, de manera que por ejemplo para 1999 aparezcan 19 en siglo y 99 en año."
   ]
  },
  {
   "cell_type": "code",
   "execution_count": null,
   "metadata": {},
   "outputs": [],
   "source": []
  },
  {
   "cell_type": "markdown",
   "metadata": {},
   "source": [
    "### Valores faltantes y la tranformación de conjuntos de datos\n",
    "\n",
    "Una de las cosas sutiles cuando se transforman conjuntos de datos es cómo vamos a tratar los valores faltantes. \n",
    "Los valores pueden faltar en un conjunto de datos de dos maneras distintas:\n",
    "* De manera explícita, es decir, aparece el valor **NA** en alguna de las celdas de nuestro conjunto de datos.\n",
    "* De manera implícita, es decir, no hay ninguna celda asociada al dato faltante con un valor de **NA** pero sencillamente la fila que debería contener el valor no aparece en el conjunto de datos.\n",
    "\n",
    "Vamos a ilustrar esto con un dataset simple:"
   ]
  },
  {
   "cell_type": "code",
   "execution_count": null,
   "metadata": {},
   "outputs": [],
   "source": [
    "stocks <- tibble(\n",
    "  year   = c(2015, 2015, 2015, 2015, 2016, 2016, 2016),\n",
    "  qtr    = c(   1,    2,    3,    4,    2,    3,    4),\n",
    "  return = c(1.88, 0.59, 0.35,   NA, 0.92, 0.17, 2.66)\n",
    ")\n",
    "stocks"
   ]
  },
  {
   "cell_type": "markdown",
   "metadata": {},
   "source": [
    "Concretamente en este dataset faltan los datos del cuarto cuatrimestre de 2015 (tiene asociado de manera explícita el valor NA en su correspondiente fila), y los datos del primer cuatrimestre de 2016 (no hay fila que contenga los valores 2016 y 1 en las columnas year y qtr respectivamente).\n",
    "\n",
    "La manera en que está representado un dataset puele alterar la manera enque se expresan los valores faltantes, por ejemplo:"
   ]
  },
  {
   "cell_type": "code",
   "execution_count": null,
   "metadata": {},
   "outputs": [],
   "source": [
    "stocks %>% \n",
    "  spread(year, return)"
   ]
  },
  {
   "cell_type": "markdown",
   "metadata": {},
   "source": [
    "Otra herramienta interesante para hacer explícita la representación de los valores faltantes es la función **complete()**. Esta función toma una serie de nombre de columnas y calcula todas las posibles combinaciones de sus valores. Una vez hecho esto, se asegura de que el dataset contiene al menos un fila con todos esos posibles valores, y si no están, lo añade con *NA*s en el resto de columnas.\n",
    "Por ejemplo:"
   ]
  },
  {
   "cell_type": "code",
   "execution_count": null,
   "metadata": {},
   "outputs": [],
   "source": [
    "stocks %>% \n",
    "  complete(year, qtr)"
   ]
  },
  {
   "cell_type": "markdown",
   "metadata": {},
   "source": [
    "Alternativamente, si queremos que no aparezcan **NA**s en el conjunto de datos transformado, podemos usar el parámetro _na.rm=TRUE_ en gather y spread, y eliminará las filas que tendría un valor faltante (*NA*).\n",
    "\n",
    "## Tratamiento de datos usando los verbos de dyplr\n",
    "\n",
    "Los  paquetes dplyr y tidyr proporcionan un conjunto de pasos atómicos, que llamaremos verbos, para transformar los datos.\n",
    "Cada vez que encadenemos el uso de un verbo, usaremos un pipe, que en R se escribe como **%>%**, su significado es: **toma todo lo que venga antes y aplícale la acción que viene después**, así los verbos se especifican siempre depués de un pipe.\n",
    "\n",
    "#### filter\n",
    "\n",
    "El primer verbo de dyplr que vamos a aprender a manejar es el verbo **filter**, que se usa cuando queremos usar solo un subconjunto de nuestras observaciones que cumplen cierta condición, así para filtrar los datos de los países en 2007 tendríamos."
   ]
  },
  {
   "cell_type": "code",
   "execution_count": null,
   "metadata": {},
   "outputs": [],
   "source": [
    "gapminder %>% filter(year==2007)"
   ]
  },
  {
   "cell_type": "markdown",
   "metadata": {},
   "source": [
    "Aquí 'year==2007' es la condición de filtrado. Cuidado, recordad que '=' en R significa asignación, mientras que '==' significa comparación.\n",
    "\n",
    "\n",
    "**Ejercicio**: Os proponemos buscar los datos históricos de España (llamada \"Spain\" en el dataset) del año 2002 ."
   ]
  },
  {
   "cell_type": "code",
   "execution_count": null,
   "metadata": {},
   "outputs": [],
   "source": []
  },
  {
   "cell_type": "markdown",
   "metadata": {},
   "source": [
    "#### arrange\n",
    "\n",
    "Otro verbo muy interesante es *arrange*, que permite ordenar las observaciones del dataset basandose en los valores de sus varaibles.\n",
    "\n",
    "Por ejemplo para ordenar las observaciones de gapminder por producto interior bruto per cápita haríamos:\n"
   ]
  },
  {
   "cell_type": "code",
   "execution_count": null,
   "metadata": {},
   "outputs": [],
   "source": [
    "gapminder %>% arrange(gdpPercap)"
   ]
  },
  {
   "cell_type": "markdown",
   "metadata": {},
   "source": [
    "Si queremos obtener los datos en orden descendente, haríamos:"
   ]
  },
  {
   "cell_type": "code",
   "execution_count": null,
   "metadata": {},
   "outputs": [],
   "source": [
    "gapminder %>% arrange(desc(gdpPercap))"
   ]
  },
  {
   "cell_type": "markdown",
   "metadata": {},
   "source": [
    "**Ejercicio**: Ahora os inivitamos a encontrar los 10 países más ricos en términos relativos (producto interior bruto) del mundo en 2007:"
   ]
  },
  {
   "cell_type": "code",
   "execution_count": null,
   "metadata": {},
   "outputs": [],
   "source": []
  },
  {
   "cell_type": "markdown",
   "metadata": {},
   "source": [
    "#### mutate\n",
    "\n",
    "Otro verbo especialmente interesante para el tratamiento de datos es el verbo **mutate**.\n",
    "Este verbo permite cambiar los valores que existen en una de nuestras variables, basándonos en su valo y en el de las otras variables, e incluso nos permitirá crear nuevas variables calculadas (ojo el cálculo se hace una sola vez, cuando el verbo se ejecuta, y lo que se guarda en el dataframe es el valor calculado, es decir, ese valor no se auto-actualiza cuando cambiamos otras variables, no es un \"trigger\").\n",
    "\n",
    "\n",
    "Por ejemplo, imaginemos que deseamos almacenar el tamaño de la población de los paises en lugar de en individuos en millones de individuos, podríamos hacerlo de la siguiente manera:\n"
   ]
  },
  {
   "cell_type": "code",
   "execution_count": null,
   "metadata": {},
   "outputs": [],
   "source": [
    "gapminder %>% mutate(pop=pop/1000000)"
   ]
  },
  {
   "cell_type": "markdown",
   "metadata": {},
   "source": [
    "**Ejercicio:** Es importante resaltar en este punto que no estamos modificando los datos almacenados en la variable gapminder, sino que se está devolviendo un nuevo dataframe con los datos cambiados. Compruébalo:"
   ]
  },
  {
   "cell_type": "code",
   "execution_count": null,
   "metadata": {},
   "outputs": [],
   "source": []
  },
  {
   "cell_type": "markdown",
   "metadata": {},
   "source": [
    "Para guardar el resultado en una nueva variable debemos asignarle un nombre:"
   ]
  },
  {
   "cell_type": "code",
   "execution_count": null,
   "metadata": {},
   "outputs": [],
   "source": [
    "gapminder2007 <- gapminder %>% filter(year==2007)\n",
    "gapminder2007"
   ]
  },
  {
   "cell_type": "markdown",
   "metadata": {},
   "source": [
    "También podemos añadir una nueva variable a nuestro dataframe, sencillamente basta con darle un nombre distinto al elemento que asignamos a nuestros cálculos. Por ejemplo, podría ser interesante trabajar con el producto interior bruto total de los paises, no con su valor por habitante. Para ello:"
   ]
  },
  {
   "cell_type": "code",
   "execution_count": null,
   "metadata": {},
   "outputs": [],
   "source": [
    "gapminder %>% mutate(gdp=gdpPercap*pop)"
   ]
  },
  {
   "cell_type": "markdown",
   "metadata": {},
   "source": [
    "**Ejercicio**: Ahora podemos preguntarnos ¿Cuáles son los paises más ricos en términos absolutos (aquellos con el producto interior bruto mayor) en 2007?"
   ]
  },
  {
   "cell_type": "code",
   "execution_count": null,
   "metadata": {},
   "outputs": [],
   "source": []
  },
  {
   "cell_type": "markdown",
   "metadata": {},
   "source": [
    "**¿Por qué no está noruega ahí?**\n",
    "\n",
    "#### sumarize\n",
    "\n",
    "Otro verbo extremadamente útil en la fase de limpieza, transformación, y exploración de los datos es **summarize**.\n",
    "Este verbo nos ayudará a entender la estructura y contenido de nuestros datos, para poder ser más efectivos a la hora de generar información valiosa o modelos a partir de los mismos.\n",
    "\n",
    "El verbo **summarize** permite generar una única observación o dato a partir de un conjunto de ellos. Por ejemplo, nos permitirá responder a la pregunta de ¿cual era la esperanza de vida media mundial en el 2007?"
   ]
  },
  {
   "cell_type": "code",
   "execution_count": null,
   "metadata": {},
   "outputs": [],
   "source": [
    "gapminder %>% \n",
    "  filter(year==2007) %>%  \n",
    "  summarize(meanLifeExp=mean(lifeExp))"
   ]
  },
  {
   "cell_type": "markdown",
   "metadata": {},
   "source": [
    "**Ejercicio**: ¿Cómo creeis que será la esperanza de vida en Asia?"
   ]
  },
  {
   "cell_type": "code",
   "execution_count": null,
   "metadata": {},
   "outputs": [],
   "source": []
  },
  {
   "cell_type": "markdown",
   "metadata": {},
   "source": [
    "**Ejercicio**:¿Y en África?"
   ]
  },
  {
   "cell_type": "code",
   "execution_count": null,
   "metadata": {},
   "outputs": [],
   "source": []
  },
  {
   "cell_type": "markdown",
   "metadata": {},
   "source": [
    "El verbo summariize no sólo nos permite calcular medias, sino que incorpora todo un conjunto de funciones de agregación de interés, por ejemplo, para calcular la población total reflejada en el dataset en 2007, podríamos hacer:"
   ]
  },
  {
   "cell_type": "code",
   "execution_count": null,
   "metadata": {},
   "outputs": [],
   "source": [
    "gapminder %>% \n",
    "  filter(year==2007 & continent==\"Africa\") %>%\n",
    "  summarize(meanifeExpAfrica=mean(lifeExp),\n",
    "            totalPop=sum(pop))"
   ]
  },
  {
   "cell_type": "markdown",
   "metadata": {},
   "source": [
    "Otras funciones de interés son _median_, _min_, _max_, _range_, etc.\n",
    "\n",
    "#### group_by\n",
    "\n",
    "Otro verbo muy importante para extraer y agrupar información de interés en nuestros dataframes es **group_by**, este verbo nos permite negerar varios subconjuntos de datos en base a los varlores de las variables, sobre los que depués podremos aplicar los demás verbos, y especialmente summarize.\n",
    "\n",
    "Así si queremos sacar la experanza de vida media y pobalción total a lo largo del tiempo, podemos hacer:\n"
   ]
  },
  {
   "cell_type": "code",
   "execution_count": null,
   "metadata": {},
   "outputs": [],
   "source": [
    "gapminder %>%\n",
    "  group_by(year) %>%\n",
    "  summarize(meanLifeExp = mean(lifeExp),\n",
    "            totalPop = sum(as.numeric(pop)))"
   ]
  },
  {
   "cell_type": "markdown",
   "metadata": {},
   "source": [
    "Hay un detalle sutil aquí, fíjate en que al especificar la función que calcula la población total, hemos transformado el valor a número en coma flotante (usando la función as.numeric). \n",
    "\n",
    "**Ejercicio**: ¿Se te ocurre porqué? Intenta hacer los mismo sin realizar la conversión y observa el resultado de la salida:"
   ]
  },
  {
   "cell_type": "code",
   "execution_count": null,
   "metadata": {},
   "outputs": [],
   "source": []
  },
  {
   "cell_type": "markdown",
   "metadata": {},
   "source": [
    "Podemos obtener la experanza de vida media y la población por continente en 2007 combinando una agrupación por continente y un flitro:"
   ]
  },
  {
   "cell_type": "code",
   "execution_count": null,
   "metadata": {},
   "outputs": [],
   "source": [
    "gapminder %>%\n",
    "  filter(year == 2007) %>%\n",
    "  group_by(continent) %>%\n",
    "  summarize(meanLifeExp = mean(lifeExp),\n",
    "            totalPop = sum(as.numeric(pop)))"
   ]
  },
  {
   "cell_type": "markdown",
   "metadata": {},
   "source": [
    "Por último, podemos agrupar por más de una columna, por ejemplo, podemos sacar la evolución de población total y esperanza de vida media a lo largo del tiempo por continente:"
   ]
  },
  {
   "cell_type": "code",
   "execution_count": null,
   "metadata": {},
   "outputs": [],
   "source": [
    "gapminder %>%\n",
    "  group_by(year, continent) %>%\n",
    "  summarize(totalPop = sum(as.numeric(pop)),\n",
    "            meanLifeExp = mean(lifeExp))"
   ]
  },
  {
   "cell_type": "markdown",
   "metadata": {},
   "source": [
    "## Otros tratamientos de interés\n",
    "\n",
    "A veces cuando intentamos aplicar un algorimto con un propósito concreto a un conjunto de datos nos interesa generar versiones del dataset adaptadas para el funcionamiento de dichos algoritmos que no tienen porqué seguir los principios de tidy data. En esta última sección mostraremos como realizar algunos de los casos más comunes de este tipo de transformaciones.\n",
    "\n",
    "### Eliminar datos faltantes\n",
    "\n",
    "Lo primero que hay que hacer es identificar el conjunto de valores que representan valores faltantes, por ejemplo muchas veces nos encontramos con valores que contienen la cadena vacía cuando en realidad el dato falta. Lo ideal es que si el dato falta, lo que apareza en el valora asociados a su observación en la variable correspondiente sea el valor **NA**. Aún cuando todos los datos que en realidad son faltantes aparecen en nuestro conjunto de datos como tales.\n",
    "Algunos algoritmos no admiten la existencia de datos faltantes en el conjunto de datos que se les pasa como parámetro. Cuando se nos presenta esta situación tenemos 2 alternativas:\n",
    " \n",
    " 1. *Eliminar las filas con datos faltantes*. Esto puede hacerse cuando el volumen de datos faltantes es bajo y tenemos datos suficientes como para que el algoritmo y sus resultados no se vean muy afectados por la eliminación (hay que tener en cuenta que si el patrón de datos faltantes no es aleatorio esto puede introducir un sesgo en el modelo o los resultados generados por el algoritmo a aplicar). Esta estrategia se implementa facilmente usando el verbo filter o aplicando una transformación con el parámentro _na.rm=TRUE_.\n",
    " \n",
    " **Ejercicio**: Guardar en nui nuevo dataset la versión de observaciones completas (sin NAs) del siguiente:"
   ]
  },
  {
   "cell_type": "code",
   "execution_count": null,
   "metadata": {},
   "outputs": [],
   "source": [
    "df <- tibble(x = c(1, 2, 2),y = c(1, 2, NA))\n",
    "\n",
    "df\n"
   ]
  },
  {
   "cell_type": "markdown",
   "metadata": {},
   "source": [
    " \n",
    " 2. Rellenar los datos faltantes con valores \"coherentes\" con el resto de datos del conjunto de datos y el algoritmo que queremos aplicar. Aquí la clave está en cómo definimos esa coherencia, esencialmente hay 3 mecanismos:\n",
    "* _Usar el valor de la observación inmediatamente anterior_. Esto se hace mucho cuando los datos han sido introducidos directamente por personas, que prefieren no repetir en cada observación el mismo valor (y lo dejan en blanco). Para implementar este mecanismos de tratamiento tenemos a nuestra disposición la función **fill()** que toma como parámetro un conjunto e nombres de columnas y rellena los datos faltantes en cada una con el valor que contiene la observación anterior.\n",
    "* _Usar la media/mediana/moda de la columna como valor_. Esta estrategia es muy fácil de implementar usando el verbo mutate , la función replace_na, y la correspondiente función o valor a calcular. Por ejemplo:"
   ]
  },
  {
   "cell_type": "code",
   "execution_count": null,
   "metadata": {},
   "outputs": [],
   "source": [
    "df <- tibble(x = c(1, 2, 2),y = c(1, 2, NA))\n",
    "\n",
    "df\n",
    "\n",
    "df %>% mutate(y = replace_na(y, mean(df$y,na.rm=T)))\n"
   ]
  },
  {
   "cell_type": "markdown",
   "metadata": {},
   "source": [
    " * _Usar un modelo de algún tipo (por ejemplo lineal) para general el valor en base al valor de otras columnas del conjunto de datos_. Para ello contamos con la función predict, que toma como parámetro un modelo y genera un valor, y que podemos usar junto con el verbo mutate. Por ejemplo:"
   ]
  },
  {
   "cell_type": "code",
   "execution_count": null,
   "metadata": {},
   "outputs": [],
   "source": [
    "df <- tibble(x = c(1, 2, 2),y = c(1, 2, NA))\n",
    "\n",
    "df\n",
    "\n",
    "# Calucamos el modelo indicando que no tenga en cuenta los valores faltantes:\n",
    "bmmodelo <- lm(y~x,data=df,na.action=na.exclude)\n",
    "\n",
    "summary(modelo)\n",
    "\n",
    "df %>% mutate(y=predict(modelo,.))"
   ]
  },
  {
   "cell_type": "markdown",
   "metadata": {},
   "source": [
    "### Reformatear un factor como un conjunto de columnas booleanas/binarias\n",
    "\n",
    "Algunos algoritmos no soportan el uso de factores sino que requieren el uso de columnas booleanas/binarias, podemos usar las funcion **spread**, o las funciones **mutate** junto con **ifelse** o **case_when** para realizar esta transformación.\n",
    "Ejemplos:\n",
    "\n",
    "\n"
   ]
  },
  {
   "cell_type": "code",
   "execution_count": null,
   "metadata": {},
   "outputs": [],
   "source": [
    "df <- tibble(x = c(\"a\", \"b\", \"b\"),y = c(1, 2, NA))\n",
    "\n",
    "dfspread <- df %>%  mutate(value = 1) %>%\n",
    "                    spread(x, value, fill = 0)\n",
    "dfspread\n",
    "\n",
    "dfifelse <- df %>% mutate(x,a=ifelse(x==\"a\",1,0),b=ifelse(x==\"b\",1,0))\n",
    "dfifelse\n",
    "\n",
    "dfcasewhen <- df %>% mutate(\n",
    "    a = case_when(\n",
    "            x == \"a\" ~ 1,\n",
    "            x == \"b\" ~ 0\n",
    "),\n",
    "    b=case_when(\n",
    "            x == \"b\" ~ 1,\n",
    "            x == \"a\" ~ 0\n",
    "))\n",
    "dfcasewhen\n"
   ]
  },
  {
   "cell_type": "markdown",
   "metadata": {},
   "source": [
    "  \n",
    "### Limpiar caracteres raros y especiales de las cadenas y los factores\n",
    "\n",
    "Muchos algoritmos no aceptan el uso de valores con carácteres que no sean UTF-8, o incluso ASCII en las cadenas y los factores por ello es importante conoce la funciones **replace_non_ascii** (del paquete **textclean**) y **sanitize**. Por ejemplo:"
   ]
  },
  {
   "cell_type": "code",
   "execution_count": null,
   "metadata": {},
   "outputs": [],
   "source": [
    "install.packages(\"textclean\")\n",
    "library(textclean)\n",
    "astr <- \"Ábcdêãçoàúü\"\n",
    "\n",
    "astr\n",
    "\n",
    "replace_non_ascii(astr)\n"
   ]
  },
  {
   "cell_type": "markdown",
   "metadata": {},
   "source": [
    "## Ejercicios adicionales:\n",
    "\n",
    "### Ejercicio 1\n",
    "\n",
    "El dataset _who_ continene información sobre casos de tuberculosis por año, país, edad del paciente, y método de diagnóstico. Los datos vienen del informe de las Organización Mundal de la Salud sobre esa enfermedad del 2014, disponbile [aquí](http://www.who.int/tb/country/data/download/en/).\n",
    "Hay mucha información información en este conjunto de datos, pero es difícil trabajar con él por culpa de: \n",
    "\n",
    "* Columnas redundantes (country, iso2, y iso3)\n",
    "* Variables codificadas de forma exótica (las columnas new_sp_m014, new_ep_m014, new_ep_f014,... tienen toda la pinta de estar codificando en realidad valores y no variables)\n",
    "* Montones de valores faltantes .\n",
    "\n",
    "En cuanto a la codificación de los valores en las variables, tras consultar con los creadores del conjunto de datos nos indicaron que:\n",
    "\n",
    "1. Las primeras 3 letras de cada columna denotan si la columna conteine casos nuevos o antiguos (cada año). En nuestro caso solo se contaban los casos nuevo por lo que siempre será \"new\".\n",
    "\n",
    "2. Las siguientes letras  denotan el tipo de tuberculosis:\n",
    "\n",
    "* rel significa casos de recaída en la enfermedad\n",
    "* ep significa casos de tuberculosis extra-pulmonar\n",
    "* sn significa caoss de tuberculosis pulmonar que no pudo ser diagnosticada con un frotis pulmonar\n",
    "* sp significa caoss de tuberculosis pulmonar que no pudo ser diagnosticada con un frotis pulmonar\n",
    "\n",
    "3. La sexta letra indica el sexo de los pacientes, agrupados en machos (m) y hembras (f).\n",
    "\n",
    "Los siguientes números codifican el grupo de edad. Se contemplan siete grupos de edad:\n",
    "\n",
    "* 014 = 0 – 14 años\n",
    "* 1524 = 15 – 24 años\n",
    "* 2534 = 25 – 34 años\n",
    "* 3544 = 35 – 44 años\n",
    "* 4554 = 45 – 54 años\n",
    "* 5564 = 55 – 64 años\n",
    "* 65 = 65 o más años"
   ]
  },
  {
   "cell_type": "code",
   "execution_count": null,
   "metadata": {},
   "outputs": [],
   "source": [
    "str(who)\n",
    "who"
   ]
  },
  {
   "cell_type": "markdown",
   "metadata": {},
   "source": [
    "Desgraciadamente, las personas que tomaron los datos fueron ligeramente inconsistentes, y tenemos casos en los que los valores en lugar de '_new_rel_' ponen '_newrel_'. Puede usar **mutate** y la función **stringr::str_replace(columna,\"cadena_a_encontrar\",\"reemplazo\">)** para solventar este problema.\n",
    "\n",
    "Recuerde que si desea especificar todo el conjunto de columnas entre **new_sp_m014** y **newrel_f65_** puede escribir **_new_sp_m014:newrel_f65**.\n",
    "\n",
    "1. Transforme el conjunto de datos _who_ en un conjunto llamado _tidyWho_ que siga los principios de tidy data."
   ]
  },
  {
   "cell_type": "code",
   "execution_count": null,
   "metadata": {},
   "outputs": [],
   "source": []
  },
  {
   "cell_type": "markdown",
   "metadata": {},
   "source": [
    "2. Compruebe si realmente las columnas country, iso2 y iso3 son redundates."
   ]
  },
  {
   "cell_type": "code",
   "execution_count": null,
   "metadata": {},
   "outputs": [],
   "source": []
  },
  {
   "cell_type": "markdown",
   "metadata": {},
   "source": [
    "3. Comprueba el número de casos por país, año, y sexo. Piense como podríamos representar visualmente dicha información y describa dicha gráfica (si lo desea puede intentar generarla usando la librerías básicas de R o ggplot2)."
   ]
  },
  {
   "cell_type": "code",
   "execution_count": null,
   "metadata": {},
   "outputs": [],
   "source": []
  }
 ],
 "metadata": {
  "kernelspec": {
   "display_name": "R",
   "language": "R",
   "name": "ir"
  },
  "language_info": {
   "codemirror_mode": "r",
   "file_extension": ".r",
   "mimetype": "text/x-r-source",
   "name": "R",
   "pygments_lexer": "r",
   "version": "3.5.1"
  }
 },
 "nbformat": 4,
 "nbformat_minor": 2
}
